{
 "cells": [
  {
   "cell_type": "code",
   "execution_count": 1,
   "metadata": {},
   "outputs": [],
   "source": [
    "import os\n",
    "import xml\n",
    "import shutil\n",
    "import numpy as np\n",
    "from os.path import join\n",
    "\n",
    "from PIL import Image\n",
    "from skimage import draw\n",
    "from skimage.draw import polygon_perimeter"
   ]
  },
  {
   "cell_type": "markdown",
   "metadata": {},
   "source": [
    "# MoNuSeg"
   ]
  },
  {
   "cell_type": "code",
   "execution_count": 10,
   "metadata": {},
   "outputs": [],
   "source": [
    "def_im_size = (1000, 1000) # original image size\n",
    "im_size = (1000, 1000)#(500, 500)"
   ]
  },
  {
   "cell_type": "code",
   "execution_count": 3,
   "metadata": {},
   "outputs": [],
   "source": [
    "# NEW DATA FOLDERS\n",
    "def mkdir(path):\n",
    "    if not os.path.exists(path):\n",
    "        os.mkdir(path)\n",
    "\n",
    "\n",
    "data_dir = '../data/MoNuSeg_data'\n",
    "\n",
    "train_imgs_dir = join(data_dir, 'train_images')\n",
    "test_imgs_dir = join(data_dir, 'test_images')\n",
    "all_masks_dir = join(data_dir, 'all_masks')\n",
    "all_countuors_dir = join(data_dir, 'all_contours')\n",
    "\n",
    "mkdir(data_dir)\n",
    "mkdir(train_imgs_dir)\n",
    "mkdir(test_imgs_dir)\n",
    "mkdir(all_masks_dir)\n",
    "mkdir(all_countuors_dir)\n"
   ]
  },
  {
   "cell_type": "code",
   "execution_count": 4,
   "metadata": {},
   "outputs": [],
   "source": [
    "# RAW DATA FOLDERS\n",
    "raw_data_dir = '../data/MoNuSeg'\n",
    "raw_train_dir = join(raw_data_dir, 'MoNuSegTrainingData')\n",
    "\n",
    "raw_train_imgs_dir = join(raw_train_dir, 'TissueImages')\n",
    "raw_train_anno_dir = join(raw_train_dir, 'Annotations')\n",
    "\n",
    "\n",
    "raw_test_dir = join(raw_data_dir, 'MoNuSegTestData')\n",
    "raw_test_imgs_dir = join(raw_test_dir, 'TissueImages')\n",
    "raw_test_anno_dir = join(raw_test_dir, 'Annotations')\n"
   ]
  },
  {
   "cell_type": "code",
   "execution_count": 5,
   "metadata": {},
   "outputs": [
    {
     "data": {
      "text/plain": [
       "'\\n+ Copy Images to new folder\\n    + Train\\n    + Test\\n- Copy Masks to new folder\\n    + Make Masks train\\n    - Make Masks test\\n- Copy Countuors to new folder\\n    + Make Countuors train\\n    - Make Countuors test\\n'"
      ]
     },
     "execution_count": 5,
     "metadata": {},
     "output_type": "execute_result"
    }
   ],
   "source": [
    "'''\n",
    "+ Copy Images to new folder\n",
    "    + Train\n",
    "    + Test\n",
    "- Copy Masks to new folder\n",
    "    + Make Masks train\n",
    "    - Make Masks test\n",
    "- Copy Countuors to new folder\n",
    "    + Make Countuors train\n",
    "    - Make Countuors test\n",
    "'''"
   ]
  },
  {
   "cell_type": "code",
   "execution_count": 11,
   "metadata": {},
   "outputs": [],
   "source": [
    "# Copy Images to new folder\n",
    "def copy_images(src_img_dir, dst_img_dir, im_size):\n",
    "    imgs_fn = sorted([p for p in os.listdir(src_img_dir) if not 'ipynb' in p])\n",
    "\n",
    "    for filename in imgs_fn:\n",
    "        src = join(src_img_dir, filename)\n",
    "        dst = join(dst_img_dir, filename[:-4]+'.png')\n",
    "        \n",
    "        img = Image.open(src)\n",
    "        img = img.resize(im_size)\n",
    "        img.save(dst, 'PNG')\n",
    "        \n",
    "    \n",
    "# Train\n",
    "copy_images(raw_train_imgs_dir, train_imgs_dir, im_size)\n",
    "\n",
    "# Test\n",
    "copy_images(raw_test_imgs_dir, test_imgs_dir, im_size)\n",
    "    "
   ]
  },
  {
   "cell_type": "code",
   "execution_count": 7,
   "metadata": {},
   "outputs": [],
   "source": [
    "# Made Masks and save to new folder\n",
    "def get_coordinates(regions):\n",
    "    # for each region tag\n",
    "    # get a list of all the vertexes (which are in order)\n",
    "    xy = []\n",
    "    for region in regions:\n",
    "        verticies = region.getElementsByTagName('Vertex')\n",
    "        xy.append([])\n",
    "\n",
    "        # iterate through all verticies\n",
    "        for vertex in verticies:\n",
    "            # get the x value of that verte\n",
    "            x = float(vertex.getAttribute('X'))\n",
    "            # get the y value of that vertex\n",
    "            y = float(vertex.getAttribute('Y'))\n",
    "\n",
    "            xy[-1].append([x,y])\n",
    "    return xy\n",
    "\n",
    "def poly2mask(vertex_row_coords, vertex_col_coords, shape):\n",
    "    # https://github.com/scikit-image/scikit-image/issues/1103#issuecomment-52378754\n",
    "    fill_row_coords, fill_col_coords = draw.polygon(\n",
    "        vertex_row_coords, vertex_col_coords, shape)\n",
    "    mask = np.zeros(shape, dtype=np.bool)\n",
    "    mask[fill_row_coords, fill_col_coords] = True\n",
    "    return mask\n",
    "\n",
    "\n",
    "def coords_to_mask(coords, im_size):\n",
    "    binary_mask = np.zeros(im_size, dtype=np.bool)\n",
    "    color_mask = np.zeros((im_size[0], im_size[1], 3), dtype=np.int32)\n",
    "    \n",
    "    for i in range(len(coords)):\n",
    "        points = np.array(coords[i])\n",
    "        small_x = points[:,0]\n",
    "        small_y = points[:,1]\n",
    "\n",
    "        # make a mask and add it to the current mask\n",
    "        # this addition makes it obvious when more than \n",
    "        # 1 layer overlap each.\n",
    "        # Other, can be changed to simply an OR \n",
    "        # depending on application.\n",
    "\n",
    "        polygon = poly2mask(small_x, small_y, im_size)\n",
    "\n",
    "        binary_mask |= polygon\n",
    "\n",
    "    return binary_mask.T\n",
    "\n",
    "def coords_to_contours(coords, im_size):\n",
    "    edges = np.zeros(im_size, dtype=np.uint8)\n",
    "    \n",
    "    for coord in coords:\n",
    "        c = np.array(coord)\n",
    "        # Poligon has to have at least 3 coordinats\n",
    "        if len(c) > 2: \n",
    "            rr, cc = polygon_perimeter(c[:,1], c[:,0], shape=edges.shape,clip=True)\n",
    "            edges[rr, cc] = 255\n",
    "\n",
    "    return edges\n",
    "\n",
    "def copy_masks(ann_dir, im_size):\n",
    "    ann_dir = raw_train_anno_dir\n",
    "#     def_im_size = (1000, 1000)\n",
    "    \n",
    "    # Start of the function\n",
    "    anns_fn = sorted([p for p in os.listdir(ann_dir) if not 'ipynb' in p])\n",
    "\n",
    "    for i, filename in enumerate(anns_fn):\n",
    "        print('[{:2d}/{:3d}] {}'.format(i+1, len(anns_fn), filename))\n",
    "        # Get annotation file\n",
    "        file_path = join(ann_dir, filename)\n",
    "        doc = xml.dom.minidom.parse(file_path)\n",
    "\n",
    "        # Get Regions info\n",
    "        regions = doc.getElementsByTagName('Region')\n",
    "        coords = get_coordinates(regions)\n",
    "\n",
    "        # Compute binary mask  \n",
    "        binary_mask = coords_to_mask(coords, def_im_size)\n",
    "\n",
    "        # Compute countuors\n",
    "        countuors_mask = coords_to_contours(coords, def_im_size)\n",
    "\n",
    "        # Save masks\n",
    "        dst_bi = join(all_masks_dir, filename[:-4]+'.png')\n",
    "        dst_co = join(all_countuors_dir, filename[:-4]+'.png')\n",
    "\n",
    "        Image.fromarray(binary_mask).resize(im_size).save(dst_bi, 'PNG')\n",
    "        Image.fromarray(countuors_mask).resize(im_size).save(dst_co, 'PNG')\n"
   ]
  },
  {
   "cell_type": "code",
   "execution_count": 9,
   "metadata": {
    "scrolled": true
   },
   "outputs": [
    {
     "name": "stdout",
     "output_type": "stream",
     "text": [
      "Train masks generation...\n",
      "[ 1/ 30] TCGA-18-5592-01Z-00-DX1.xml\n",
      "[ 2/ 30] TCGA-21-5784-01Z-00-DX1.xml\n",
      "[ 3/ 30] TCGA-21-5786-01Z-00-DX1.xml\n",
      "[ 4/ 30] TCGA-38-6178-01Z-00-DX1.xml\n",
      "[ 5/ 30] TCGA-49-4488-01Z-00-DX1.xml\n",
      "[ 6/ 30] TCGA-50-5931-01Z-00-DX1.xml\n",
      "[ 7/ 30] TCGA-A7-A13E-01Z-00-DX1.xml\n",
      "[ 8/ 30] TCGA-A7-A13F-01Z-00-DX1.xml\n",
      "[ 9/ 30] TCGA-AR-A1AK-01Z-00-DX1.xml\n",
      "[10/ 30] TCGA-AR-A1AS-01Z-00-DX1.xml\n",
      "[11/ 30] TCGA-AY-A8YK-01A-01-TS1.xml\n",
      "[12/ 30] TCGA-B0-5698-01Z-00-DX1.xml\n",
      "[13/ 30] TCGA-B0-5710-01Z-00-DX1.xml\n",
      "[14/ 30] TCGA-B0-5711-01Z-00-DX1.xml\n",
      "[15/ 30] TCGA-CH-5767-01Z-00-DX1.xml\n",
      "[16/ 30] TCGA-DK-A2I6-01A-01-TS1.xml\n",
      "[17/ 30] TCGA-E2-A14V-01Z-00-DX1.xml\n",
      "[18/ 30] TCGA-E2-A1B5-01Z-00-DX1.xml\n",
      "[19/ 30] TCGA-G2-A2EK-01A-02-TSB.xml\n",
      "[20/ 30] TCGA-G9-6336-01Z-00-DX1.xml\n",
      "[21/ 30] TCGA-G9-6348-01Z-00-DX1.xml\n",
      "[22/ 30] TCGA-G9-6356-01Z-00-DX1.xml\n",
      "[23/ 30] TCGA-G9-6362-01Z-00-DX1.xml\n",
      "[24/ 30] TCGA-G9-6363-01Z-00-DX1.xml\n",
      "[25/ 30] TCGA-HE-7128-01Z-00-DX1.xml\n",
      "[26/ 30] TCGA-HE-7129-01Z-00-DX1.xml\n",
      "[27/ 30] TCGA-HE-7130-01Z-00-DX1.xml\n",
      "[28/ 30] TCGA-KB-A93J-01A-01-TS1.xml\n",
      "[29/ 30] TCGA-NH-A8F7-01A-01-TS1.xml\n",
      "[30/ 30] TCGA-RD-A8N9-01A-01-TS1.xml\n",
      "Test masks generation...\n",
      "[ 1/ 30] TCGA-18-5592-01Z-00-DX1.xml\n",
      "[ 2/ 30] TCGA-21-5784-01Z-00-DX1.xml\n",
      "[ 3/ 30] TCGA-21-5786-01Z-00-DX1.xml\n",
      "[ 4/ 30] TCGA-38-6178-01Z-00-DX1.xml\n",
      "[ 5/ 30] TCGA-49-4488-01Z-00-DX1.xml\n",
      "[ 6/ 30] TCGA-50-5931-01Z-00-DX1.xml\n",
      "[ 7/ 30] TCGA-A7-A13E-01Z-00-DX1.xml\n",
      "[ 8/ 30] TCGA-A7-A13F-01Z-00-DX1.xml\n",
      "[ 9/ 30] TCGA-AR-A1AK-01Z-00-DX1.xml\n",
      "[10/ 30] TCGA-AR-A1AS-01Z-00-DX1.xml\n",
      "[11/ 30] TCGA-AY-A8YK-01A-01-TS1.xml\n",
      "[12/ 30] TCGA-B0-5698-01Z-00-DX1.xml\n",
      "[13/ 30] TCGA-B0-5710-01Z-00-DX1.xml\n",
      "[14/ 30] TCGA-B0-5711-01Z-00-DX1.xml\n",
      "[15/ 30] TCGA-CH-5767-01Z-00-DX1.xml\n",
      "[16/ 30] TCGA-DK-A2I6-01A-01-TS1.xml\n",
      "[17/ 30] TCGA-E2-A14V-01Z-00-DX1.xml\n",
      "[18/ 30] TCGA-E2-A1B5-01Z-00-DX1.xml\n",
      "[19/ 30] TCGA-G2-A2EK-01A-02-TSB.xml\n",
      "[20/ 30] TCGA-G9-6336-01Z-00-DX1.xml\n",
      "[21/ 30] TCGA-G9-6348-01Z-00-DX1.xml\n",
      "[22/ 30] TCGA-G9-6356-01Z-00-DX1.xml\n",
      "[23/ 30] TCGA-G9-6362-01Z-00-DX1.xml\n",
      "[24/ 30] TCGA-G9-6363-01Z-00-DX1.xml\n",
      "[25/ 30] TCGA-HE-7128-01Z-00-DX1.xml\n",
      "[26/ 30] TCGA-HE-7129-01Z-00-DX1.xml\n",
      "[27/ 30] TCGA-HE-7130-01Z-00-DX1.xml\n",
      "[28/ 30] TCGA-KB-A93J-01A-01-TS1.xml\n",
      "[29/ 30] TCGA-NH-A8F7-01A-01-TS1.xml\n",
      "[30/ 30] TCGA-RD-A8N9-01A-01-TS1.xml\n"
     ]
    }
   ],
   "source": [
    "im_size = (1000, 1000)\n",
    "\n",
    "print('Train masks generation...')\n",
    "copy_masks(raw_train_anno_dir, im_size)\n",
    "print('Test masks generation...')\n",
    "copy_masks(raw_test_anno_dir, im_size)"
   ]
  },
  {
   "cell_type": "code",
   "execution_count": 41,
   "metadata": {},
   "outputs": [
    {
     "data": {
      "text/plain": [
       "tensor(5075)"
      ]
     },
     "execution_count": 41,
     "metadata": {},
     "output_type": "execute_result"
    }
   ],
   "source": [
    "import torch\n",
    "\n",
    "a = torch.randint(0,100, (10,10))\n"
   ]
  },
  {
   "cell_type": "code",
   "execution_count": 53,
   "metadata": {},
   "outputs": [
    {
     "data": {
      "text/plain": [
       "'../../model'"
      ]
     },
     "execution_count": 53,
     "metadata": {},
     "output_type": "execute_result"
    }
   ],
   "source": [
    "a = '../../model/model-0.hdf5'\n",
    "b = a.split('/')[:-1]\n",
    "join(*b)"
   ]
  }
 ],
 "metadata": {
  "kernelspec": {
   "display_name": "Python 3",
   "language": "python",
   "name": "python3"
  },
  "language_info": {
   "codemirror_mode": {
    "name": "ipython",
    "version": 3
   },
   "file_extension": ".py",
   "mimetype": "text/x-python",
   "name": "python",
   "nbconvert_exporter": "python",
   "pygments_lexer": "ipython3",
   "version": "3.7.9"
  }
 },
 "nbformat": 4,
 "nbformat_minor": 4
}
