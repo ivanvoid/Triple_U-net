{
 "cells": [
  {
   "cell_type": "code",
   "execution_count": 10,
   "metadata": {},
   "outputs": [],
   "source": [
    "import os\n",
    "import xml\n",
    "import shutil\n",
    "import numpy as np\n",
    "from os.path import join\n",
    "import scipy.spatial.distance as distance\n",
    "\n",
    "import cv2\n",
    "import scipy.io\n",
    "from scipy import ndimage\n",
    "from PIL import Image\n",
    "from skimage import draw\n",
    "from skimage.draw import polygon_perimeter"
   ]
  },
  {
   "cell_type": "code",
   "execution_count": 2,
   "metadata": {},
   "outputs": [],
   "source": [
    "def mkdir(path):\n",
    "    '''Make new dir'''\n",
    "    if not os.path.exists(path):\n",
    "        os.mkdir(path)"
   ]
  },
  {
   "cell_type": "markdown",
   "metadata": {},
   "source": [
    "# MoNuSeg"
   ]
  },
  {
   "cell_type": "code",
   "execution_count": 3,
   "metadata": {},
   "outputs": [],
   "source": [
    "def_im_size = (1000, 1000) # original image size\n",
    "im_size = (1000, 1000)#(500, 500)"
   ]
  },
  {
   "cell_type": "code",
   "execution_count": 4,
   "metadata": {},
   "outputs": [],
   "source": [
    "# NEW DATA FOLDERS\n",
    "\n",
    "data_dir = '../data/MoNuSeg_data'\n",
    "\n",
    "train_imgs_dir = join(data_dir, 'train_images')\n",
    "test_imgs_dir = join(data_dir, 'test_images')\n",
    "all_masks_dir = join(data_dir, 'all_masks')\n",
    "all_countuors_dir = join(data_dir, 'all_contours')\n",
    "all_centers_dir = join(data_dir, 'all_centers')\n",
    "\n",
    "mkdir(data_dir)\n",
    "mkdir(train_imgs_dir)\n",
    "mkdir(test_imgs_dir)\n",
    "mkdir(all_masks_dir)\n",
    "mkdir(all_countuors_dir)\n",
    "mkdir(all_centers_dir)\n"
   ]
  },
  {
   "cell_type": "code",
   "execution_count": 5,
   "metadata": {},
   "outputs": [],
   "source": [
    "# RAW DATA FOLDERS\n",
    "raw_data_dir = '../data/MoNuSeg'\n",
    "\n",
    "raw_train_dir = join(raw_data_dir, 'MoNuSegTrainingData')\n",
    "raw_train_imgs_dir = join(raw_train_dir, 'TissueImages')\n",
    "raw_train_anno_dir = join(raw_train_dir, 'Annotations')\n",
    "\n",
    "raw_test_dir = join(raw_data_dir, 'MoNuSegTestData')\n",
    "raw_test_imgs_dir = join(raw_test_dir, 'TissueImages')\n",
    "raw_test_anno_dir = join(raw_test_dir, 'Annotations')\n"
   ]
  },
  {
   "cell_type": "code",
   "execution_count": 6,
   "metadata": {},
   "outputs": [],
   "source": [
    "# Copy Images to new folder    \n",
    "def copy_images(src_img_dir, dst_img_dir, im_size=None, train=True):\n",
    "    '''Copy Images to new folder'''\n",
    "    imgs_fn = sorted([p for p in os.listdir(src_img_dir) if not 'ipynb' in p])\n",
    "\n",
    "    for filename in imgs_fn:\n",
    "        src = join(src_img_dir, filename)\n",
    "        dst = join(dst_img_dir, filename[:-4]+'.png')\n",
    "        \n",
    "        img = Image.open(src)\n",
    "        if im_size:\n",
    "            img = img.resize(im_size)\n",
    "        img.save(dst, 'PNG')\n",
    "    \n",
    "# Train\n",
    "copy_images(raw_train_imgs_dir, train_imgs_dir, im_size)\n",
    "\n",
    "# Test\n",
    "copy_images(raw_test_imgs_dir, test_imgs_dir, im_size)\n",
    "    "
   ]
  },
  {
   "cell_type": "code",
   "execution_count": 42,
   "metadata": {},
   "outputs": [],
   "source": [
    "# Made Masks and save to new folder\n",
    "def get_coordinates(regions):\n",
    "    '''Get coordinated of polygons'''\n",
    "    # for each region tag\n",
    "    # get a list of all the vertexes (which are in order)\n",
    "    xy = []\n",
    "    for region in regions:\n",
    "        verticies = region.getElementsByTagName('Vertex')\n",
    "        xy.append([])\n",
    "\n",
    "        # iterate through all verticies\n",
    "        for vertex in verticies:\n",
    "            # get the x value of that verte\n",
    "            x = float(vertex.getAttribute('X'))\n",
    "            # get the y value of that vertex\n",
    "            y = float(vertex.getAttribute('Y'))\n",
    "\n",
    "            xy[-1].append([x,y])\n",
    "    return xy\n",
    "\n",
    "def poly2mask(vertex_row_coords, vertex_col_coords, shape):\n",
    "    '''Convert polygons to mask'''\n",
    "    # https://github.com/scikit-image/scikit-image/issues/1103#issuecomment-52378754\n",
    "    fill_row_coords, fill_col_coords = draw.polygon(\n",
    "        vertex_row_coords, vertex_col_coords, shape)\n",
    "    mask = np.zeros(shape, dtype=np.bool)\n",
    "    mask[fill_row_coords, fill_col_coords] = True\n",
    "    return mask\n",
    "\n",
    "\n",
    "def coords_to_mask(coords, im_size):\n",
    "    '''Generate binary mask from polygons coordinates'''\n",
    "    binary_mask = np.zeros(im_size, dtype=np.bool)\n",
    "    color_mask = np.zeros((im_size[0], im_size[1], 3), dtype=np.int32)\n",
    "    \n",
    "    for i in range(len(coords)):\n",
    "        points = np.array(coords[i])\n",
    "        small_x = points[:,0]\n",
    "        small_y = points[:,1]\n",
    "\n",
    "        # make a mask and add it to the current mask\n",
    "        # this addition makes it obvious when more than \n",
    "        # 1 layer overlap each.\n",
    "        # Other, can be changed to simply an OR \n",
    "        # depending on application.\n",
    "\n",
    "        polygon = poly2mask(small_x, small_y, im_size)\n",
    "\n",
    "        binary_mask |= polygon\n",
    "\n",
    "    return binary_mask.T\n",
    "\n",
    "def coords_to_contours(coords, im_size):\n",
    "    '''Generate contours from polygons coordinates'''\n",
    "    edges = np.zeros(im_size, dtype=np.uint8)\n",
    "    \n",
    "    for coord in coords:\n",
    "        c = np.array(coord)\n",
    "        # Poligon has to have at least 3 coordinats\n",
    "        if len(c) > 2: \n",
    "            rr, cc = polygon_perimeter(c[:,1], c[:,0], shape=edges.shape,clip=True)\n",
    "            edges[rr, cc] = 255\n",
    "\n",
    "    return edges\n",
    "\n",
    "def binary_poly_to_center_gradiant(polygon):\n",
    "    '''Calculate distance from center to every point of the polygone'''\n",
    "    center_coords = ndimage.center_of_mass(polygon)\n",
    "    dist_map = np.zeros_like(polygon, dtype=np.float)\n",
    "\n",
    "    # coordinates where mask is true\n",
    "    mask_coords = np.concatenate((np.where(polygon!=0)[0][:,None], \n",
    "                                  np.where(polygon!=0)[1][:,None]), axis=1)\n",
    "    \n",
    "    for x,y in mask_coords:\n",
    "        dist = distance.euclidean((x,y), center_coords)\n",
    "        dist_map[x,y] = dist\n",
    "\n",
    "    # normalization\n",
    "    dist_map = (dist_map - dist_map.min()) / (dist_map.max() - dist_map.min())\n",
    "    dist_map[np.where(polygon!=0)] = 1 - dist_map[np.where(polygon!=0)]\n",
    "    return dist_map\n",
    "\n",
    "\n",
    "def coords_to_centers(coords, im_size):\n",
    "    '''Get centers mask for polygons'''\n",
    "    centers = np.zeros(im_size, dtype=np.float)\n",
    "\n",
    "    for i in range(len(coords)):\n",
    "        points = np.array(coords[i])\n",
    "        small_x = points[:,0]\n",
    "        small_y = points[:,1]\n",
    "        \n",
    "        polygon = poly2mask(small_x, small_y, im_size)\n",
    "        \n",
    "        grad_poly = binary_poly_to_center_gradiant(polygon)\n",
    "        cond = grad_poly > centers\n",
    "        centers[cond] = grad_poly[cond]\n",
    "        \n",
    "    return centers.T\n",
    "        \n",
    "\n",
    "def copy_masks(ann_dir, im_size):\n",
    "#     ann_dir = raw_train_anno_dir\n",
    "    \n",
    "    # Start of the function\n",
    "    anns_fn = sorted([p for p in os.listdir(ann_dir) if not 'ipynb' in p])\n",
    "\n",
    "    for i, filename in enumerate(anns_fn):\n",
    "        print('[{:2d}/{:3d}] {}'.format(i+1, len(anns_fn), filename))\n",
    "        # Get annotation file\n",
    "        file_path = join(ann_dir, filename)\n",
    "        doc = xml.dom.minidom.parse(file_path)\n",
    "\n",
    "        # Get Regions info\n",
    "        regions = doc.getElementsByTagName('Region')\n",
    "        coords = get_coordinates(regions)\n",
    "\n",
    "        # Compute binary mask  \n",
    "#         binary_mask = coords_to_mask(coords, def_im_size)\n",
    "\n",
    "        # Compute countuors mask\n",
    "#         countuors_mask = coords_to_contours(coords, def_im_size)\n",
    "        \n",
    "        # Compute centers mask\n",
    "        centers_mask = coords_to_centers(coords, def_im_size)\n",
    "        centers_mask = (centers_mask*255).astype(np.uint8)\n",
    "\n",
    "        # Save masks\n",
    "#         dst_bi = join(all_masks_dir, filename[:-4]+'.png')\n",
    "#         dst_co = join(all_countuors_dir, filename[:-4]+'.png')\n",
    "        dst_ce = join(all_centers_dir, filename[:-4]+'.png')\n",
    "\n",
    "#         Image.fromarray(binary_mask).resize(im_size).save(dst_bi, 'PNG')\n",
    "#         Image.fromarray(countuors_mask).resize(im_size).save(dst_co, 'PNG')\n",
    "        Image.fromarray(centers_mask).resize(im_size).save(dst_ce, 'PNG')\n"
   ]
  },
  {
   "cell_type": "code",
   "execution_count": 43,
   "metadata": {},
   "outputs": [
    {
     "name": "stdout",
     "output_type": "stream",
     "text": [
      "Train masks generation...\n",
      "[ 1/ 30] TCGA-18-5592-01Z-00-DX1.xml\n",
      "[ 2/ 30] TCGA-21-5784-01Z-00-DX1.xml\n",
      "[ 3/ 30] TCGA-21-5786-01Z-00-DX1.xml\n",
      "[ 4/ 30] TCGA-38-6178-01Z-00-DX1.xml\n",
      "[ 5/ 30] TCGA-49-4488-01Z-00-DX1.xml\n",
      "[ 6/ 30] TCGA-50-5931-01Z-00-DX1.xml\n"
     ]
    },
    {
     "name": "stderr",
     "output_type": "stream",
     "text": [
      "/home/ivan/tools/anaconda3/envs/bbn/lib/python3.7/site-packages/scipy/ndimage/measurements.py:1328: RuntimeWarning: invalid value encountered in double_scalars\n",
      "  for dir in range(input.ndim)]\n",
      "/home/ivan/tools/anaconda3/envs/bbn/lib/python3.7/site-packages/ipykernel_launcher.py:80: RuntimeWarning: invalid value encountered in true_divide\n",
      "/home/ivan/tools/anaconda3/envs/bbn/lib/python3.7/site-packages/ipykernel_launcher.py:97: RuntimeWarning: invalid value encountered in greater\n"
     ]
    },
    {
     "name": "stdout",
     "output_type": "stream",
     "text": [
      "[ 7/ 30] TCGA-A7-A13E-01Z-00-DX1.xml\n",
      "[ 8/ 30] TCGA-A7-A13F-01Z-00-DX1.xml\n",
      "[ 9/ 30] TCGA-AR-A1AK-01Z-00-DX1.xml\n",
      "[10/ 30] TCGA-AR-A1AS-01Z-00-DX1.xml\n",
      "[11/ 30] TCGA-AY-A8YK-01A-01-TS1.xml\n",
      "[12/ 30] TCGA-B0-5698-01Z-00-DX1.xml\n",
      "[13/ 30] TCGA-B0-5710-01Z-00-DX1.xml\n",
      "[14/ 30] TCGA-B0-5711-01Z-00-DX1.xml\n",
      "[15/ 30] TCGA-CH-5767-01Z-00-DX1.xml\n",
      "[16/ 30] TCGA-DK-A2I6-01A-01-TS1.xml\n",
      "[17/ 30] TCGA-E2-A14V-01Z-00-DX1.xml\n",
      "[18/ 30] TCGA-E2-A1B5-01Z-00-DX1.xml\n",
      "[19/ 30] TCGA-G2-A2EK-01A-02-TSB.xml\n",
      "[20/ 30] TCGA-G9-6336-01Z-00-DX1.xml\n",
      "[21/ 30] TCGA-G9-6348-01Z-00-DX1.xml\n",
      "[22/ 30] TCGA-G9-6356-01Z-00-DX1.xml\n",
      "[23/ 30] TCGA-G9-6362-01Z-00-DX1.xml\n",
      "[24/ 30] TCGA-G9-6363-01Z-00-DX1.xml\n",
      "[25/ 30] TCGA-HE-7128-01Z-00-DX1.xml\n",
      "[26/ 30] TCGA-HE-7129-01Z-00-DX1.xml\n",
      "[27/ 30] TCGA-HE-7130-01Z-00-DX1.xml\n",
      "[28/ 30] TCGA-KB-A93J-01A-01-TS1.xml\n",
      "[29/ 30] TCGA-NH-A8F7-01A-01-TS1.xml\n",
      "[30/ 30] TCGA-RD-A8N9-01A-01-TS1.xml\n",
      "Test masks generation...\n",
      "[ 1/ 14] TCGA-2Z-A9J9-01A-01-TS1.xml\n",
      "[ 2/ 14] TCGA-44-2665-01B-06-BS6.xml\n",
      "[ 3/ 14] TCGA-69-7764-01A-01-TS1.xml\n",
      "[ 4/ 14] TCGA-A6-6782-01A-01-BS1.xml\n",
      "[ 5/ 14] TCGA-AC-A2FO-01A-01-TS1.xml\n",
      "[ 6/ 14] TCGA-AO-A0J2-01A-01-BSA.xml\n",
      "[ 7/ 14] TCGA-CU-A0YN-01A-02-BSB.xml\n",
      "[ 8/ 14] TCGA-EJ-A46H-01A-03-TSC.xml\n",
      "[ 9/ 14] TCGA-FG-A4MU-01B-01-TS1.xml\n",
      "[10/ 14] TCGA-GL-6846-01A-01-BS1.xml\n",
      "[11/ 14] TCGA-HC-7209-01A-01-TS1.xml\n",
      "[12/ 14] TCGA-HT-8564-01Z-00-DX1.xml\n",
      "[13/ 14] TCGA-IZ-8196-01A-01-BS1.xml\n",
      "[14/ 14] TCGA-ZF-A9R5-01A-01-TS1.xml\n"
     ]
    }
   ],
   "source": [
    "print('Train masks generation...')\n",
    "copy_masks(raw_train_anno_dir, im_size)\n",
    "print('Test masks generation...')\n",
    "copy_masks(raw_test_anno_dir, im_size)"
   ]
  },
  {
   "cell_type": "markdown",
   "metadata": {},
   "source": [
    "# CPM17"
   ]
  },
  {
   "cell_type": "code",
   "execution_count": 66,
   "metadata": {},
   "outputs": [
    {
     "data": {
      "text/plain": [
       "'\\n+ Copy Images to new folder\\n    + Train\\n    + Test\\n- Copy Masks to new folder\\n    - Make Masks train\\n    - Make Masks test\\n- Copy Countuors to new folder\\n    - Make Countuors train\\n    - Make Countuors test\\n'"
      ]
     },
     "execution_count": 66,
     "metadata": {},
     "output_type": "execute_result"
    }
   ],
   "source": [
    "'''\n",
    "+ Copy Images to new folder\n",
    "    + Train\n",
    "    + Test\n",
    "- Copy Masks to new folder\n",
    "    - Make Masks train\n",
    "    - Make Masks test\n",
    "- Copy Countuors to new folder\n",
    "    - Make Countuors train\n",
    "    - Make Countuors test\n",
    "'''"
   ]
  },
  {
   "cell_type": "code",
   "execution_count": 67,
   "metadata": {},
   "outputs": [],
   "source": [
    "im_size = (600,600)"
   ]
  },
  {
   "cell_type": "code",
   "execution_count": 68,
   "metadata": {},
   "outputs": [],
   "source": [
    "# NEW DATAFOLDERS\n",
    "\n",
    "data_dir = '../data/CPM17_data'\n",
    "\n",
    "train_imgs_dir = join(data_dir, 'train_images')\n",
    "test_imgs_dir = join(data_dir, 'test_images')\n",
    "all_masks_dir = join(data_dir, 'all_masks')\n",
    "all_countuors_dir = join(data_dir, 'all_contours')\n",
    "\n",
    "mkdir(data_dir)\n",
    "mkdir(train_imgs_dir)\n",
    "mkdir(test_imgs_dir)\n",
    "mkdir(all_masks_dir)\n",
    "mkdir(all_countuors_dir)\n"
   ]
  },
  {
   "cell_type": "code",
   "execution_count": 69,
   "metadata": {},
   "outputs": [],
   "source": [
    "# RAW DATA FOLDERS\n",
    "raw_data_dir = '../data/CPM-17/cpm17'\n",
    "\n",
    "raw_train_dir = join(raw_data_dir, 'train')\n",
    "raw_train_imgs_dir = join(raw_train_dir, 'Images')\n",
    "raw_train_anno_dir = join(raw_train_dir, 'Labels')\n",
    "\n",
    "raw_test_dir = join(raw_data_dir, 'test')\n",
    "raw_test_imgs_dir = join(raw_test_dir, 'Images')\n",
    "raw_test_anno_dir = join(raw_test_dir, 'Labels')\n"
   ]
  },
  {
   "cell_type": "code",
   "execution_count": 86,
   "metadata": {},
   "outputs": [],
   "source": [
    "def copy_images(src_img_dir, dst_img_dir, prefix=None, im_size=None):\n",
    "    '''Copy Images to new folder'''\n",
    "    imgs_fn = sorted([p for p in os.listdir(src_img_dir) if not 'ipynb' in p])\n",
    "\n",
    "    for filename in imgs_fn:\n",
    "        src = join(src_img_dir, filename)\n",
    "        dst = join(dst_img_dir, filename[:-4]+'.png')\n",
    "        if prefix:\n",
    "            dst = join(dst_img_dir, filename[:-4]+prefix+'.png')\n",
    "        \n",
    "        img = Image.open(src).convert('RGB')\n",
    "\n",
    "        if im_size:\n",
    "            img = img.resize(im_size)\n",
    "        img.save(dst, 'PNG')"
   ]
  },
  {
   "cell_type": "code",
   "execution_count": 71,
   "metadata": {},
   "outputs": [],
   "source": [
    "# Copy images\n",
    "# Train\n",
    "copy_images(raw_train_imgs_dir, train_imgs_dir, prefix='_train', im_size=im_size)\n",
    "\n",
    "# Test\n",
    "copy_images(raw_test_imgs_dir, test_imgs_dir, prefix='_test', im_size=im_size)\n"
   ]
  },
  {
   "cell_type": "code",
   "execution_count": 85,
   "metadata": {},
   "outputs": [],
   "source": [
    "def copy_masks(labels_path, prefix=None, im_size=None):\n",
    "    '''Function for masks copy'''\n",
    "    labels_filenames = sorted([p for p in os.listdir(labels_path) if not 'ipynb' in p])\n",
    "\n",
    "    for filename in labels_filenames:\n",
    "        file_path = join(labels_path, filename)\n",
    "\n",
    "        mat = scipy.io.loadmat(file_path)\n",
    "\n",
    "        # Make binary mask\n",
    "        binary_mask = mat['inst_map']\n",
    "        binary_mask = (binary_mask > 0).astype(np.uint8) * 255\n",
    "\n",
    "        # Save mask\n",
    "        dst_bi = join(all_masks_dir, file_path.split('/')[-1][:-4]+'.png')\n",
    "        if prefix:\n",
    "            dst_bi = join(all_masks_dir, file_path.split('/')[-1][:-4]+prefix+'.png')\n",
    "           \n",
    "        img = Image.fromarray(binary_mask)\n",
    "        if im_size:\n",
    "            img = img.resize(im_size)\n",
    "        img.save(dst_bi, 'PNG')\n"
   ]
  },
  {
   "cell_type": "code",
   "execution_count": 73,
   "metadata": {},
   "outputs": [],
   "source": [
    "# Copy train masks\n",
    "copy_masks(raw_train_anno_dir, prefix='_train', im_size=im_size)\n",
    "\n",
    "# Copy test masks\n",
    "copy_masks(raw_test_anno_dir, prefix='_test', im_size=im_size)\n"
   ]
  },
  {
   "cell_type": "code",
   "execution_count": 84,
   "metadata": {},
   "outputs": [],
   "source": [
    "def copy_countur(labels_path, prefix=None, im_size=None):\n",
    "    labels_filenames = sorted([p for p in os.listdir(labels_path) if not 'ipynb' in p])\n",
    "\n",
    "    for filename in labels_filenames:\n",
    "        # Load instance mask\n",
    "        file_path = join(labels_path, filename)\n",
    "        mat = scipy.io.loadmat(file_path)\n",
    "        mask = mat['inst_map'].astype(int)\n",
    "        mask = np.repeat(mask[:,:,np.newaxis], 3, axis=2) \n",
    "\n",
    "        # Create output counturs array as mask\n",
    "        counturs = np.zeros_like(mask[:,:,0], dtype='uint8')\n",
    "\n",
    "        # Number of instances\n",
    "        n_instance = mask[:,:,0].max()\n",
    "\n",
    "        # Generate countur for each instance\n",
    "        for n in range(n_instance):\n",
    "            img1 = mask[:,:,0] == n + 1\n",
    "            img1 = img1.astype('uint8') * 255\n",
    "\n",
    "            idx = cv2.findContours(img1,cv2.RETR_TREE,cv2.CHAIN_APPROX_NONE)[1][0]\n",
    "\n",
    "            counturs[idx[:,0,0],idx[:,0,1]] = 255\n",
    "\n",
    "        # Save counturs\n",
    "        dst_co = join(all_countuors_dir, filename[:-4]+'.png')\n",
    "        if prefix:\n",
    "            dst_co = join(all_countuors_dir, filename[:-4]+prefix+'.png')\n",
    "        \n",
    "        img = Image.fromarray(counturs)\n",
    "        if im_size:\n",
    "            img = img.resize(im_size)\n",
    "        img.rotate(-90).transpose(Image.FLIP_LEFT_RIGHT).save(dst_co, 'PNG')\n"
   ]
  },
  {
   "cell_type": "code",
   "execution_count": 75,
   "metadata": {},
   "outputs": [],
   "source": [
    "# Copy train countur \n",
    "copy_countur(raw_train_anno_dir, prefix='_train', im_size=im_size)\n",
    "\n",
    "# Copy test countur \n",
    "copy_countur(raw_test_anno_dir, prefix='_test', im_size=im_size)"
   ]
  },
  {
   "cell_type": "markdown",
   "metadata": {},
   "source": [
    "# CoNSeP"
   ]
  },
  {
   "cell_type": "code",
   "execution_count": 87,
   "metadata": {},
   "outputs": [],
   "source": [
    "# NEW DATAFOLDERS\n",
    "\n",
    "data_dir = '../data/CoNSeP_data'\n",
    "\n",
    "train_imgs_dir = join(data_dir, 'train_images')\n",
    "test_imgs_dir = join(data_dir, 'test_images')\n",
    "all_masks_dir = join(data_dir, 'all_masks')\n",
    "all_countuors_dir = join(data_dir, 'all_contours')\n",
    "\n",
    "mkdir(data_dir)\n",
    "mkdir(train_imgs_dir)\n",
    "mkdir(test_imgs_dir)\n",
    "mkdir(all_masks_dir)\n",
    "mkdir(all_countuors_dir)\n"
   ]
  },
  {
   "cell_type": "code",
   "execution_count": 88,
   "metadata": {},
   "outputs": [],
   "source": [
    "# RAW DATA FOLDERS\n",
    "raw_data_dir = '../data/CoNSeP'\n",
    "\n",
    "raw_train_dir = join(raw_data_dir, 'Train')\n",
    "raw_train_imgs_dir = join(raw_train_dir, 'Images')\n",
    "raw_train_anno_dir = join(raw_train_dir, 'Labels')\n",
    "\n",
    "raw_test_dir = join(raw_data_dir, 'Test')\n",
    "raw_test_imgs_dir = join(raw_test_dir, 'Images')\n",
    "raw_test_anno_dir = join(raw_test_dir, 'Labels')\n"
   ]
  },
  {
   "cell_type": "code",
   "execution_count": 89,
   "metadata": {},
   "outputs": [],
   "source": [
    "# Copy images\n",
    "# Train\n",
    "copy_images(raw_train_imgs_dir, train_imgs_dir)\n",
    "\n",
    "# Test\n",
    "copy_images(raw_test_imgs_dir, test_imgs_dir)\n"
   ]
  },
  {
   "cell_type": "code",
   "execution_count": 90,
   "metadata": {},
   "outputs": [],
   "source": [
    "# Copy train masks\n",
    "copy_masks(raw_train_anno_dir)\n",
    "\n",
    "# Copy test masks\n",
    "copy_masks(raw_test_anno_dir)\n"
   ]
  },
  {
   "cell_type": "code",
   "execution_count": 91,
   "metadata": {},
   "outputs": [],
   "source": [
    "# Copy train countur \n",
    "copy_countur(raw_train_anno_dir)\n",
    "\n",
    "# Copy test countur \n",
    "copy_countur(raw_test_anno_dir)"
   ]
  },
  {
   "cell_type": "markdown",
   "metadata": {},
   "source": [
    "# Generate new centroids data"
   ]
  },
  {
   "cell_type": "code",
   "execution_count": 126,
   "metadata": {},
   "outputs": [],
   "source": [
    "def_im_size = (1000, 1000) # original image size\n",
    "im_size = (500, 500)\n",
    "global prefix, postfix\n",
    "prefix = 2007\n",
    "postfix = 0\n",
    "max_classes = 300"
   ]
  },
  {
   "cell_type": "code",
   "execution_count": 133,
   "metadata": {},
   "outputs": [
    {
     "data": {
      "text/plain": [
       "'0042'"
      ]
     },
     "execution_count": 133,
     "metadata": {},
     "output_type": "execute_result"
    }
   ],
   "source": []
  }
 ],
 "metadata": {
  "kernelspec": {
   "display_name": "Python 3",
   "language": "python",
   "name": "python3"
  },
  "language_info": {
   "codemirror_mode": {
    "name": "ipython",
    "version": 3
   },
   "file_extension": ".py",
   "mimetype": "text/x-python",
   "name": "python",
   "nbconvert_exporter": "python",
   "pygments_lexer": "ipython3",
   "version": "3.7.9"
  }
 },
 "nbformat": 4,
 "nbformat_minor": 4
}
